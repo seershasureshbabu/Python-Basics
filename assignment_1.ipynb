{
  "cells": [
    {
      "cell_type": "code",
      "source": [
        "import math;\n",
        "\n",
        "userinpt=input(\"Enter the radius : \");\n",
        "if(userinpt.isnumeric()):\n",
        "  print(\"Area numeric = \" , math.pi*int(userinpt)**2);\n",
        "else:\n",
        "  print(\"Entered value is not an numeric\")\n"
      ],
      "metadata": {
        "id": "5J7LhGNrfnTT",
        "colab": {
          "base_uri": "https://localhost:8080/"
        },
        "outputId": "abe59a10-9358-4ff5-aa6e-20701520aff9"
      },
      "execution_count": 93,
      "outputs": [
        {
          "output_type": "stream",
          "name": "stdout",
          "text": [
            "Enter the radius : 2\n",
            "Area numeric =  12.566370614359172\n"
          ]
        }
      ]
    },
    {
      "cell_type": "code",
      "source": [
        "x=input(\"ENTER THE NAME \");\n",
        "y=input(\"ENTER THE ROLL NUMBER \");\n",
        "Z=input(\"ENTER THE MARK \");\n",
        "print(\"NAME :\",x)\n",
        "print(\"ROLL NUMBER :\",y)\n",
        "print(\"mark :\" ,Z)"
      ],
      "metadata": {
        "colab": {
          "base_uri": "https://localhost:8080/"
        },
        "id": "6aFJc1A09rAr",
        "outputId": "2bc050b6-0c6f-4ab5-d359-0841918aeeae"
      },
      "execution_count": null,
      "outputs": [
        {
          "output_type": "stream",
          "name": "stdout",
          "text": [
            "ENTER THE NAME seersha\n",
            "ENTER THE ROLL NUMBER 45\n",
            "ENTER THE MARK 54\n",
            "NAME : seersha\n",
            "ROLL NUMBER : 45\n",
            "mark : 54\n"
          ]
        }
      ]
    },
    {
      "cell_type": "code",
      "source": [
        "numbersList=(input(\"enter number with comma seperation\")).split(',');\n",
        "for num in numbersList:\n",
        "  if int(num) % 5==0:\n",
        "    print (num)"
      ],
      "metadata": {
        "colab": {
          "base_uri": "https://localhost:8080/"
        },
        "id": "9U0dzsuE9JKN",
        "outputId": "37455db8-d07e-47ec-db33-debf8345607c"
      },
      "execution_count": null,
      "outputs": [
        {
          "output_type": "stream",
          "name": "stdout",
          "text": [
            "enter number with comma seperation25,32,60\n",
            "25\n",
            "60\n"
          ]
        }
      ]
    },
    {
      "cell_type": "code",
      "source": [],
      "metadata": {
        "id": "tKLjpgdt-0Sn"
      },
      "execution_count": null,
      "outputs": []
    },
    {
      "cell_type": "code",
      "source": [
        "NUM1=float(input(\"Enter first number \"));\n",
        "NUM2=float(input(\"Enter second number \"));\n",
        "NUM3=float(input(\"Enter third number \"));\n",
        "NUM4=float(input(\"Enter fourth number \"));\n",
        "if NUM1>=NUM2 and NUM1>= NUM3 and NUM1>=NUM4:\n",
        " print((NUM1),\"IS THE LARGEST NUMBER\")\n",
        "elif (NUM2>=NUM1) and (NUM2>=NUM3) and (NUM2>=NUM4) :\n",
        "  print(NUM2,\"IS THE LARGEST NUMBER\")\n",
        "elif (NUM3>=NUM1) and (NUM3>=NUM2) and (NUM3>=NUM4):\n",
        "  print((NUM3),\"IS THE LARGEST NUMBER\")\n",
        "else:\n",
        "  print((NUM4),\"IS THE LARGEST NUMBER\")"
      ],
      "metadata": {
        "colab": {
          "base_uri": "https://localhost:8080/"
        },
        "id": "AuJeQgYii1l1",
        "outputId": "ab585f2f-89ff-4d8f-be62-6b15da175902"
      },
      "execution_count": null,
      "outputs": [
        {
          "output_type": "stream",
          "name": "stdout",
          "text": [
            "Enter first number 54\n",
            "Enter second number 53\n",
            "Enter third number 28\n",
            "Enter fourth number 42\n",
            "54.0 IS THE LARGEST NUMBER\n"
          ]
        }
      ]
    },
    {
      "cell_type": "code",
      "source": [
        "numbersList = (input(\"Enter number with comma seperation \")).split(',');\n",
        "sum = 0;\n",
        "for x in range(0,len(numbersList)):\n",
        "  if x == 0 :\n",
        "    sum = numbersList[x];\n",
        "  else:\n",
        "    sum = int(numbersList[x - 1]) + int(numbersList[x]);\n",
        "  print(sum);\n"
      ],
      "metadata": {
        "colab": {
          "base_uri": "https://localhost:8080/"
        },
        "id": "CHX4i9tG-Gm-",
        "outputId": "e062d4a4-df4f-4463-c3b4-054837aaf6db"
      },
      "execution_count": null,
      "outputs": [
        {
          "output_type": "stream",
          "name": "stdout",
          "text": [
            "Enter number with comma seperation 4,7,9,6\n",
            "4\n",
            "11\n",
            "16\n",
            "15\n"
          ]
        }
      ]
    },
    {
      "cell_type": "code",
      "source": [
        "userinput=int(input(\"ENTER THE NUMBER \"));\n",
        "isPrime = True;\n",
        "for x in range(2,userinput-1):\n",
        "  if userinput% x==0:\n",
        "    print (\"number is not prime\")\n",
        "    isPrime = False;\n",
        "    break;\n",
        "if isPrime:\n",
        "  print(\"Number is prime\")\n",
        "\n"
      ],
      "metadata": {
        "colab": {
          "base_uri": "https://localhost:8080/"
        },
        "id": "OakMPilS-je6",
        "outputId": "b69a75a5-cd44-4f56-e91c-cd220cad3c11"
      },
      "execution_count": null,
      "outputs": [
        {
          "output_type": "stream",
          "name": "stdout",
          "text": [
            "ENTER THE NUMBER 6\n",
            "number is not prime\n"
          ]
        }
      ]
    },
    {
      "cell_type": "code",
      "source": [
        "lst= input(\"enter the list \").split(',');\n",
        "reversedlist=[]\n",
        "for item in lst:\n",
        "  reversedlist.insert(0,item)\n",
        "print(reversedlist)\n"
      ],
      "metadata": {
        "colab": {
          "base_uri": "https://localhost:8080/"
        },
        "id": "JVw9IfjY_cWu",
        "outputId": "0472fb69-9ec7-46d6-aae1-ff20ed05d753"
      },
      "execution_count": null,
      "outputs": [
        {
          "output_type": "stream",
          "name": "stdout",
          "text": [
            "enter the list 6,9,12\n",
            "['12', '9', '6']\n"
          ]
        }
      ]
    },
    {
      "cell_type": "code",
      "source": [
        "\n",
        "NUM1=float(input(\"ENTER FIRST NUMBER \"));\n",
        "NUM2=float(input(\"ENTER SECOND NUMBER \"));\n",
        "NUM3=float(input(\"ENTER THIRD NUMBER \"));\n",
        "if (NUM1>=NUM2) and (NUM1>=NUM3):\n",
        "  print(NUM1)\n",
        "elif (NUM2>=NUM1) and (NUM2>=NUM3):\n",
        "  print(NUM2)\n",
        "else:\n",
        "  print(NUM3)\n"
      ],
      "metadata": {
        "colab": {
          "base_uri": "https://localhost:8080/"
        },
        "id": "YYPINEkYwNem",
        "outputId": "7e285a48-4d42-4689-8913-5315d57a8210"
      },
      "execution_count": null,
      "outputs": [
        {
          "output_type": "stream",
          "name": "stdout",
          "text": [
            "ENTER FIRST NUMBER 56\n",
            "ENTER SECOND NUMBER 584\n",
            "ENTER THIRD NUMBER 26\n",
            "584.0\n"
          ]
        }
      ]
    },
    {
      "cell_type": "code",
      "source": [
        "for i in range(1,5):\n",
        "  print(\"*\"*i)\n"
      ],
      "metadata": {
        "colab": {
          "base_uri": "https://localhost:8080/"
        },
        "id": "gSdUSOHovb_6",
        "outputId": "2650b9b0-e42c-4b5b-dab4-d52731a699bd"
      },
      "execution_count": null,
      "outputs": [
        {
          "output_type": "stream",
          "name": "stdout",
          "text": [
            "*\n",
            "**\n",
            "***\n",
            "****\n"
          ]
        }
      ]
    },
    {
      "cell_type": "code",
      "source": [
        "for a in range(1,3):\n",
        "  firstVal = 0\n",
        "  lastVal = 5\n",
        "  step = 1\n",
        "  if(a == 2):\n",
        "    firstVal = 5\n",
        "    lastVal = -1\n",
        "    step = -1\n",
        "  for b in range(firstVal, lastVal, step):\n",
        "    b= abs(b);\n",
        "    print('*'*(a + b))\n",
        "print('*')\n",
        "\n"
      ],
      "metadata": {
        "colab": {
          "base_uri": "https://localhost:8080/"
        },
        "id": "D1k_mGUHxmoS",
        "outputId": "0f9ab846-b56a-49a8-931c-90771476976b"
      },
      "execution_count": null,
      "outputs": [
        {
          "output_type": "stream",
          "name": "stdout",
          "text": [
            "*\n",
            "**\n",
            "***\n",
            "****\n",
            "*****\n",
            "*******\n",
            "******\n",
            "*****\n",
            "****\n",
            "***\n",
            "**\n",
            "*\n"
          ]
        }
      ]
    },
    {
      "cell_type": "code",
      "source": [
        "userinput=int(input(\"ENTER THE NUMBER \"));"
      ],
      "metadata": {
        "id": "VqzsRpKz-7nb"
      },
      "execution_count": null,
      "outputs": []
    },
    {
      "cell_type": "code",
      "source": [],
      "metadata": {
        "colab": {
          "base_uri": "https://localhost:8080/"
        },
        "id": "4HBpRGIP7TtU",
        "outputId": "190d277c-975f-4f93-cbbb-ece5dd213907"
      },
      "execution_count": null,
      "outputs": [
        {
          "output_type": "stream",
          "name": "stdout",
          "text": [
            "ENTER THE NUMBER4\n",
            "number is not prime\n"
          ]
        }
      ]
    }
  ],
  "metadata": {
    "colab": {
      "provenance": []
    },
    "kernelspec": {
      "display_name": "Python 3",
      "name": "python3"
    },
    "language_info": {
      "name": "python"
    }
  },
  "nbformat": 4,
  "nbformat_minor": 0
}